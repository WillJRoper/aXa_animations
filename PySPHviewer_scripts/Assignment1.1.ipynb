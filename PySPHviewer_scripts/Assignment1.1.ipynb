{
 "cells": [
  {
   "cell_type": "code",
   "execution_count": 18,
   "id": "fe2f6f5c",
   "metadata": {},
   "outputs": [],
   "source": [
    "import numpy as np\n",
    "import pandas as pd\n",
    "import matplotlib.pyplot as plt"
   ]
  },
  {
   "cell_type": "code",
   "execution_count": 10,
   "id": "d8a19f6a",
   "metadata": {},
   "outputs": [],
   "source": [
    "# Q1 a)"
   ]
  },
  {
   "cell_type": "code",
   "execution_count": 11,
   "id": "acbf7a6d",
   "metadata": {},
   "outputs": [],
   "source": [
    "# Q1 b)"
   ]
  },
  {
   "cell_type": "code",
   "execution_count": 12,
   "id": "73d195a8",
   "metadata": {},
   "outputs": [],
   "source": [
    "path = \"/Users/willroper/Downloads/PythonExampleCSVfile1.csv\""
   ]
  },
  {
   "cell_type": "code",
   "execution_count": 13,
   "id": "6c731636",
   "metadata": {},
   "outputs": [],
   "source": [
    "df = pd.read_csv(path)"
   ]
  },
  {
   "cell_type": "code",
   "execution_count": 14,
   "id": "89ad3893",
   "metadata": {},
   "outputs": [
    {
     "data": {
      "text/html": [
       "<div>\n",
       "<style scoped>\n",
       "    .dataframe tbody tr th:only-of-type {\n",
       "        vertical-align: middle;\n",
       "    }\n",
       "\n",
       "    .dataframe tbody tr th {\n",
       "        vertical-align: top;\n",
       "    }\n",
       "\n",
       "    .dataframe thead th {\n",
       "        text-align: right;\n",
       "    }\n",
       "</style>\n",
       "<table border=\"1\" class=\"dataframe\">\n",
       "  <thead>\n",
       "    <tr style=\"text-align: right;\">\n",
       "      <th></th>\n",
       "      <th>Name</th>\n",
       "      <th>Redshift</th>\n",
       "      <th>Mean_X</th>\n",
       "      <th>Mean_x_minus_delta</th>\n",
       "      <th>Mean_x_plus_delta</th>\n",
       "      <th>Mean_y</th>\n",
       "      <th>Mean_y_minus_delta</th>\n",
       "      <th>Mean_y_plus_delta</th>\n",
       "    </tr>\n",
       "  </thead>\n",
       "  <tbody>\n",
       "    <tr>\n",
       "      <th>0</th>\n",
       "      <td>XMMXCS J113313.8+662243.9</td>\n",
       "      <td>0.12</td>\n",
       "      <td>5.031</td>\n",
       "      <td>4.805</td>\n",
       "      <td>5.255</td>\n",
       "      <td>11.087</td>\n",
       "      <td>10.239</td>\n",
       "      <td>11.883</td>\n",
       "    </tr>\n",
       "    <tr>\n",
       "      <th>1</th>\n",
       "      <td>XMMXCS J215336.9+174146.4</td>\n",
       "      <td>0.25</td>\n",
       "      <td>10.599</td>\n",
       "      <td>10.301</td>\n",
       "      <td>10.897</td>\n",
       "      <td>10.363</td>\n",
       "      <td>10.066</td>\n",
       "      <td>10.660</td>\n",
       "    </tr>\n",
       "    <tr>\n",
       "      <th>2</th>\n",
       "      <td>XMMXCS J164020.3+464226.2</td>\n",
       "      <td>0.23</td>\n",
       "      <td>10.589</td>\n",
       "      <td>10.134</td>\n",
       "      <td>11.045</td>\n",
       "      <td>10.220</td>\n",
       "      <td>9.875</td>\n",
       "      <td>10.563</td>\n",
       "    </tr>\n",
       "    <tr>\n",
       "      <th>3</th>\n",
       "      <td>XMMXCS J172226.8+320754.3</td>\n",
       "      <td>0.23</td>\n",
       "      <td>8.548</td>\n",
       "      <td>7.972</td>\n",
       "      <td>9.125</td>\n",
       "      <td>9.069</td>\n",
       "      <td>8.490</td>\n",
       "      <td>9.695</td>\n",
       "    </tr>\n",
       "    <tr>\n",
       "      <th>4</th>\n",
       "      <td>XMMXCS J003706.3+090924.6</td>\n",
       "      <td>0.27</td>\n",
       "      <td>9.089</td>\n",
       "      <td>8.794</td>\n",
       "      <td>9.387</td>\n",
       "      <td>8.693</td>\n",
       "      <td>8.401</td>\n",
       "      <td>8.987</td>\n",
       "    </tr>\n",
       "    <tr>\n",
       "      <th>...</th>\n",
       "      <td>...</td>\n",
       "      <td>...</td>\n",
       "      <td>...</td>\n",
       "      <td>...</td>\n",
       "      <td>...</td>\n",
       "      <td>...</td>\n",
       "      <td>...</td>\n",
       "      <td>...</td>\n",
       "    </tr>\n",
       "    <tr>\n",
       "      <th>79</th>\n",
       "      <td>XMMXCS J150918.3-001432.7</td>\n",
       "      <td>0.27</td>\n",
       "      <td>1.007</td>\n",
       "      <td>0.748</td>\n",
       "      <td>1.347</td>\n",
       "      <td>1.007</td>\n",
       "      <td>0.748</td>\n",
       "      <td>1.347</td>\n",
       "    </tr>\n",
       "    <tr>\n",
       "      <th>80</th>\n",
       "      <td>XMMXCS J092129.1+370059.9</td>\n",
       "      <td>0.23</td>\n",
       "      <td>1.570</td>\n",
       "      <td>1.468</td>\n",
       "      <td>1.679</td>\n",
       "      <td>0.973</td>\n",
       "      <td>0.856</td>\n",
       "      <td>1.063</td>\n",
       "    </tr>\n",
       "    <tr>\n",
       "      <th>81</th>\n",
       "      <td>XMMXCS J130741.7+292627.9</td>\n",
       "      <td>0.26</td>\n",
       "      <td>0.854</td>\n",
       "      <td>0.540</td>\n",
       "      <td>1.435</td>\n",
       "      <td>0.854</td>\n",
       "      <td>0.540</td>\n",
       "      <td>1.435</td>\n",
       "    </tr>\n",
       "    <tr>\n",
       "      <th>82</th>\n",
       "      <td>XMMXCS J092114.5+370131.3</td>\n",
       "      <td>0.23</td>\n",
       "      <td>0.619</td>\n",
       "      <td>0.464</td>\n",
       "      <td>0.759</td>\n",
       "      <td>0.797</td>\n",
       "      <td>0.691</td>\n",
       "      <td>0.878</td>\n",
       "    </tr>\n",
       "    <tr>\n",
       "      <th>83</th>\n",
       "      <td>XMMXCS J120439.0+352233.2</td>\n",
       "      <td>0.19</td>\n",
       "      <td>0.547</td>\n",
       "      <td>0.403</td>\n",
       "      <td>0.677</td>\n",
       "      <td>0.547</td>\n",
       "      <td>0.433</td>\n",
       "      <td>0.631</td>\n",
       "    </tr>\n",
       "  </tbody>\n",
       "</table>\n",
       "<p>84 rows × 8 columns</p>\n",
       "</div>"
      ],
      "text/plain": [
       "                         Name  Redshift  Mean_X  Mean_x_minus_delta  \\\n",
       "0   XMMXCS J113313.8+662243.9      0.12   5.031               4.805   \n",
       "1   XMMXCS J215336.9+174146.4      0.25  10.599              10.301   \n",
       "2   XMMXCS J164020.3+464226.2      0.23  10.589              10.134   \n",
       "3   XMMXCS J172226.8+320754.3      0.23   8.548               7.972   \n",
       "4   XMMXCS J003706.3+090924.6      0.27   9.089               8.794   \n",
       "..                        ...       ...     ...                 ...   \n",
       "79  XMMXCS J150918.3-001432.7      0.27   1.007               0.748   \n",
       "80  XMMXCS J092129.1+370059.9      0.23   1.570               1.468   \n",
       "81  XMMXCS J130741.7+292627.9      0.26   0.854               0.540   \n",
       "82  XMMXCS J092114.5+370131.3      0.23   0.619               0.464   \n",
       "83  XMMXCS J120439.0+352233.2      0.19   0.547               0.403   \n",
       "\n",
       "    Mean_x_plus_delta  Mean_y  Mean_y_minus_delta  Mean_y_plus_delta  \n",
       "0               5.255  11.087              10.239             11.883  \n",
       "1              10.897  10.363              10.066             10.660  \n",
       "2              11.045  10.220               9.875             10.563  \n",
       "3               9.125   9.069               8.490              9.695  \n",
       "4               9.387   8.693               8.401              8.987  \n",
       "..                ...     ...                 ...                ...  \n",
       "79              1.347   1.007               0.748              1.347  \n",
       "80              1.679   0.973               0.856              1.063  \n",
       "81              1.435   0.854               0.540              1.435  \n",
       "82              0.759   0.797               0.691              0.878  \n",
       "83              0.677   0.547               0.433              0.631  \n",
       "\n",
       "[84 rows x 8 columns]"
      ]
     },
     "execution_count": 14,
     "metadata": {},
     "output_type": "execute_result"
    }
   ],
   "source": [
    "df"
   ]
  },
  {
   "cell_type": "code",
   "execution_count": 15,
   "id": "633d3e29",
   "metadata": {},
   "outputs": [
    {
     "data": {
      "text/plain": [
       "0.2140476190476191"
      ]
     },
     "execution_count": 15,
     "metadata": {},
     "output_type": "execute_result"
    }
   ],
   "source": [
    "df[\"Redshift\"].mean()"
   ]
  },
  {
   "cell_type": "code",
   "execution_count": 16,
   "id": "3025247f",
   "metadata": {},
   "outputs": [
    {
     "data": {
      "text/plain": [
       "0.2140476190476191"
      ]
     },
     "execution_count": 16,
     "metadata": {},
     "output_type": "execute_result"
    }
   ],
   "source": [
    "np.mean(df[\"Redshift\"])"
   ]
  },
  {
   "cell_type": "code",
   "execution_count": 21,
   "id": "d8476d2f",
   "metadata": {},
   "outputs": [
    {
     "data": {
      "text/plain": [
       "[<matplotlib.lines.Line2D at 0x7fb800bbb790>]"
      ]
     },
     "execution_count": 21,
     "metadata": {},
     "output_type": "execute_result"
    },
    {
     "data": {
      "image/png": "[encoded data removed]",
      "text/plain": [
       "<Figure size 432x288 with 1 Axes>"
      ]
     },
     "metadata": {
      "needs_background": "light"
     },
     "output_type": "display_data"
    }
   ],
   "source": [
    "plt.plot(df[\"Redshift\"], df[\"Mean_X\"])"
   ]
  },
  {
   "cell_type": "code",
   "execution_count": 38,
   "id": "6c7895ce",
   "metadata": {},
   "outputs": [
    {
     "data": {
      "image/png": "[encoded data removed]",
      "text/plain": [
       "<Figure size 432x288 with 1 Axes>"
      ]
     },
     "metadata": {
      "needs_background": "light"
     },
     "output_type": "display_data"
    }
   ],
   "source": [
    "n, bins, _ = plt.hist(df[\"Redshift\"], bins=np.arange(0.125, 0.275, 0.01), color=\"m\")"
   ]
  },
  {
   "cell_type": "code",
   "execution_count": 40,
   "id": "38d5fdd8",
   "metadata": {},
   "outputs": [
    {
     "name": "stdout",
     "output_type": "stream",
     "text": [
      "[ 3.  4.  3.  0.  5.  3.  2.  2.  2.  2. 10.  7.  3. 11.  5.]\n"
     ]
    }
   ],
   "source": [
    "print(n)"
   ]
  },
  {
   "cell_type": "code",
   "execution_count": 34,
   "id": "9be2cab6",
   "metadata": {},
   "outputs": [],
   "source": [
    "def func(x, m, c):\n",
    "    term1 = x*m**2\n",
    "    result = term1 + x*m + c\n",
    "    return result"
   ]
  },
  {
   "cell_type": "code",
   "execution_count": 35,
   "id": "38525d6a",
   "metadata": {},
   "outputs": [],
   "source": [
    "m = 4\n",
    "c = 10\n",
    "\n",
    "result = func(1, m, c)\n",
    "res2 = func(10, m, c)"
   ]
  },
  {
   "cell_type": "code",
   "execution_count": 36,
   "id": "afd5c1a3",
   "metadata": {},
   "outputs": [
    {
     "name": "stdout",
     "output_type": "stream",
     "text": [
      "30 210\n"
     ]
    }
   ],
   "source": [
    "print(result, res2)"
   ]
  },
  {
   "cell_type": "code",
   "execution_count": 51,
   "id": "220dcf37",
   "metadata": {},
   "outputs": [
    {
     "name": "stdout",
     "output_type": "stream",
     "text": [
      "0\n",
      "No 0\n",
      "2\n",
      "No 2\n",
      "4\n",
      "No 4\n",
      "6\n",
      "No 6\n",
      "8\n",
      "No 8\n",
      "10\n",
      "No 10\n",
      "Done\n"
     ]
    }
   ],
   "source": [
    "for potato in range(0, 12, 2):\n",
    "    print(potato)\n",
    "    print(\"No\", potato)\n",
    "print(\"Done\")"
   ]
  },
  {
   "cell_type": "code",
   "execution_count": 55,
   "id": "bd6f1b7e",
   "metadata": {},
   "outputs": [
    {
     "name": "stdout",
     "output_type": "stream",
     "text": [
      "here 2\n"
     ]
    }
   ],
   "source": [
    "x = 11\n",
    "if x >5 or x > 10:\n",
    "    print(\"here 2\")\n"
   ]
  },
  {
   "cell_type": "code",
   "execution_count": null,
   "id": "2fb9b565",
   "metadata": {},
   "outputs": [],
   "source": []
  }
 ],
 "metadata": {
  "kernelspec": {
   "display_name": "Python 3",
   "language": "python",
   "name": "python3"
  },
  "language_info": {
   "codemirror_mode": {
    "name": "ipython",
    "version": 3
   },
   "file_extension": ".py",
   "mimetype": "text/x-python",
   "name": "python",
   "nbconvert_exporter": "python",
   "pygments_lexer": "ipython3",
   "version": "3.8.10"
  }
 },
 "nbformat": 4,
 "nbformat_minor": 5
}
